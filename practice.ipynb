{
 "cells": [
  {
   "cell_type": "code",
   "execution_count": 1,
   "metadata": {},
   "outputs": [
    {
     "name": "stdout",
     "output_type": "stream",
     "text": [
      "     sepal length (cm)  sepal width (cm)  petal length (cm)  petal width (cm)\n",
      "0                  5.1               3.5                1.4               0.2\n",
      "1                  4.9               3.0                1.4               0.2\n",
      "2                  4.7               3.2                1.3               0.2\n",
      "3                  4.6               3.1                1.5               0.2\n",
      "4                  5.0               3.6                1.4               0.2\n",
      "..                 ...               ...                ...               ...\n",
      "145                6.7               3.0                5.2               2.3\n",
      "146                6.3               2.5                5.0               1.9\n",
      "147                6.5               3.0                5.2               2.0\n",
      "148                6.2               3.4                5.4               2.3\n",
      "149                5.9               3.0                5.1               1.8\n",
      "\n",
      "[150 rows x 4 columns]\n",
      "LR 's Accuracy is 0.9733333333333334\n",
      "DT 's Accuracy is 1.0\n",
      "SVM 's Accuracy is 0.9733333333333334\n",
      "NB 's Accuracy is 0.96\n",
      "KNN 's Accuracy is 0.9666666666666667\n"
     ]
    },
    {
     "name": "stderr",
     "output_type": "stream",
     "text": [
      "c:\\Users\\kiate\\anaconda3\\envs\\FedLearning\\lib\\site-packages\\sklearn\\linear_model\\_logistic.py:444: ConvergenceWarning: lbfgs failed to converge (status=1):\n",
      "STOP: TOTAL NO. of ITERATIONS REACHED LIMIT.\n",
      "\n",
      "Increase the number of iterations (max_iter) or scale the data as shown in:\n",
      "    https://scikit-learn.org/stable/modules/preprocessing.html\n",
      "Please also refer to the documentation for alternative solver options:\n",
      "    https://scikit-learn.org/stable/modules/linear_model.html#logistic-regression\n",
      "  n_iter_i = _check_optimize_result(\n"
     ]
    },
    {
     "name": "stdout",
     "output_type": "stream",
     "text": [
      "RF 's Accuracy is 1.0\n",
      "GB 's Accuracy is 1.0\n",
      "ANN 's Accuracy is 0.9733333333333334\n"
     ]
    },
    {
     "name": "stderr",
     "output_type": "stream",
     "text": [
      "c:\\Users\\kiate\\anaconda3\\envs\\FedLearning\\lib\\site-packages\\sklearn\\neural_network\\_multilayer_perceptron.py:702: ConvergenceWarning: Stochastic Optimizer: Maximum iterations (200) reached and the optimization hasn't converged yet.\n",
      "  warnings.warn(\n",
      "c:\\Users\\kiate\\anaconda3\\envs\\FedLearning\\lib\\site-packages\\sklearn\\linear_model\\_logistic.py:444: ConvergenceWarning: lbfgs failed to converge (status=1):\n",
      "STOP: TOTAL NO. of ITERATIONS REACHED LIMIT.\n",
      "\n",
      "Increase the number of iterations (max_iter) or scale the data as shown in:\n",
      "    https://scikit-learn.org/stable/modules/preprocessing.html\n",
      "Please also refer to the documentation for alternative solver options:\n",
      "    https://scikit-learn.org/stable/modules/linear_model.html#logistic-regression\n",
      "  n_iter_i = _check_optimize_result(\n",
      "c:\\Users\\kiate\\anaconda3\\envs\\FedLearning\\lib\\site-packages\\sklearn\\linear_model\\_logistic.py:444: ConvergenceWarning: lbfgs failed to converge (status=1):\n",
      "STOP: TOTAL NO. of ITERATIONS REACHED LIMIT.\n",
      "\n",
      "Increase the number of iterations (max_iter) or scale the data as shown in:\n",
      "    https://scikit-learn.org/stable/modules/preprocessing.html\n",
      "Please also refer to the documentation for alternative solver options:\n",
      "    https://scikit-learn.org/stable/modules/linear_model.html#logistic-regression\n",
      "  n_iter_i = _check_optimize_result(\n",
      "c:\\Users\\kiate\\anaconda3\\envs\\FedLearning\\lib\\site-packages\\sklearn\\neural_network\\_multilayer_perceptron.py:702: ConvergenceWarning: Stochastic Optimizer: Maximum iterations (200) reached and the optimization hasn't converged yet.\n",
      "  warnings.warn(\n",
      "c:\\Users\\kiate\\anaconda3\\envs\\FedLearning\\lib\\site-packages\\sklearn\\neural_network\\_multilayer_perceptron.py:702: ConvergenceWarning: Stochastic Optimizer: Maximum iterations (200) reached and the optimization hasn't converged yet.\n",
      "  warnings.warn(\n",
      "c:\\Users\\kiate\\anaconda3\\envs\\FedLearning\\lib\\site-packages\\sklearn\\neural_network\\_multilayer_perceptron.py:702: ConvergenceWarning: Stochastic Optimizer: Maximum iterations (200) reached and the optimization hasn't converged yet.\n",
      "  warnings.warn(\n",
      "c:\\Users\\kiate\\anaconda3\\envs\\FedLearning\\lib\\site-packages\\sklearn\\neural_network\\_multilayer_perceptron.py:702: ConvergenceWarning: Stochastic Optimizer: Maximum iterations (200) reached and the optimization hasn't converged yet.\n",
      "  warnings.warn(\n",
      "c:\\Users\\kiate\\anaconda3\\envs\\FedLearning\\lib\\site-packages\\sklearn\\neural_network\\_multilayer_perceptron.py:702: ConvergenceWarning: Stochastic Optimizer: Maximum iterations (200) reached and the optimization hasn't converged yet.\n",
      "  warnings.warn(\n"
     ]
    },
    {
     "data": {
      "image/png": "[encoded data removed]",
      "text/plain": [
       "<Figure size 640x480 with 1 Axes>"
      ]
     },
     "metadata": {},
     "output_type": "display_data"
    }
   ],
   "source": [
    "from sklearn.datasets import load_iris\n",
    "import pandas as pd\n",
    "import numpy as np\n",
    "import matplotlib.pyplot as plt\n",
    "import seaborn as sns\n",
    "from sklearn.linear_model import LogisticRegression #Logistic(Regression)Classifier\n",
    "from sklearn.tree import DecisionTreeClassifier #Decision Tree\n",
    "from sklearn.svm import SVC #Support Vector Machine\n",
    "from sklearn.naive_bayes import GaussianNB #Naive Bayesian\n",
    "from sklearn.neighbors import KNeighborsClassifier #K Nearest Neighbor\n",
    "from sklearn.ensemble import RandomForestClassifier #Random Forest\n",
    "from sklearn.ensemble import GradientBoostingClassifier #Gradient Boosing\n",
    "from sklearn.neural_network import MLPClassifier #Neural Network\n",
    "from sklearn.metrics import accuracy_score\n",
    "from sklearn import model_selection\n",
    "\n",
    "class ML(object):\n",
    "    \n",
    "    def __init__(self, obj_data, model):\n",
    "        self.data = obj_data\n",
    "        self.model = model\n",
    "        \n",
    "    def prep(self):\n",
    "        df = pd.DataFrame(data = self.data.data, columns = self.data.feature_names)\n",
    "        df['target'] = self.data.target\n",
    "        df['target'] = df['target'].map({0:\"setosa\",1:\"versicolor\",2:\"virginica\"})\n",
    "\n",
    "        x_data = df.iloc[:, :-1]\n",
    "        y_data = df.iloc[:, [-1]]\n",
    "        return x_data, y_data\n",
    "        \n",
    "    def train(self, x_data, y_data):\n",
    "        self.x_data = x_data\n",
    "        self.y_data = y_data\n",
    "               \n",
    "        for name, model in models:\n",
    "            model.fit(self.x_data, self.y_data.values.ravel())\n",
    "            y_pred = model.predict(self.x_data)\n",
    "            print(name, \"'s Accuracy is\", accuracy_score(self.y_data, y_pred))\n",
    "            \n",
    "        return\n",
    "        \n",
    "    def cross_validation(self):\n",
    "        results = []\n",
    "        names = []\n",
    "        \n",
    "        for name, model in models:\n",
    "            kfold = model_selection.KFold(n_splits=5, random_state=7, shuffle=True)\n",
    "            cv_results = model_selection.cross_val_score(model, self.x_data, self.y_data.values.ravel(), cv=kfold, scoring=\"accuracy\")\n",
    "            results.append(cv_results)\n",
    "            names.append(name)    \n",
    "            \n",
    "        fig = plt.figure()\n",
    "        fig.suptitle('Classifier Comparison')\n",
    "        ax = fig.add_subplot(111)\n",
    "        plt.boxplot(results)\n",
    "        ax.set_xticklabels(names)\n",
    "        plt.show()       \n",
    "        \n",
    "        return\n",
    "    \n",
    "    \n",
    "iris = load_iris()\n",
    "models = []\n",
    "models.append((\"LR\", LogisticRegression()))\n",
    "models.append((\"DT\", DecisionTreeClassifier()))\n",
    "models.append((\"SVM\", SVC()))\n",
    "models.append((\"NB\", GaussianNB()))\n",
    "models.append((\"KNN\", KNeighborsClassifier()))\n",
    "models.append((\"RF\", RandomForestClassifier()))\n",
    "models.append((\"GB\", GradientBoostingClassifier()))\n",
    "models.append((\"ANN\", MLPClassifier()))\n",
    "ML_test = ML(iris, models)\n",
    "(x,y) = ML_test.prep()\n",
    "ML_test.train(x,y)\n",
    "ML_test.cross_validation()\n"
   ]
  }
 ],
 "metadata": {
  "kernelspec": {
   "display_name": "FedLearning",
   "language": "python",
   "name": "python3"
  },
  "language_info": {
   "codemirror_mode": {
    "name": "ipython",
    "version": 3
   },
   "file_extension": ".py",
   "mimetype": "text/x-python",
   "name": "python",
   "nbconvert_exporter": "python",
   "pygments_lexer": "ipython3",
   "version": "3.10.8 | packaged by conda-forge | (main, Nov 24 2022, 14:07:00) [MSC v.1916 64 bit (AMD64)]"
  },
  "orig_nbformat": 4,
  "vscode": {
   "interpreter": {
    "hash": "3d9c63f866f60b974796075f5c09289b8fc4f57e9d727c901eeb59a008f9ea7c"
   }
  }
 },
 "nbformat": 4,
 "nbformat_minor": 2
}
