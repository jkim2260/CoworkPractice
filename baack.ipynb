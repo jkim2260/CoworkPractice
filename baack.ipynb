{
 "cells": [
  {
   "attachments": {},
   "cell_type": "markdown",
   "metadata": {},
   "source": [
    "import pandas as pd\n",
    "import matplotlib.pyplot as plt\n",
    "import math \n",
    "import numpy as np\n",
    "import pickle #pickle is used to save the model(python ver.)\n",
    "import matplotlib.pyplot as plt\n",
    "from sklearn.preprocessing import MinMaxScaler\n",
    "from sklearn.linear_model import LogisticRegression\n",
    "from sklearn import linear_model\n",
    "from sklearn.model_selection import train_test_split\n",
    "from sklearn.metrics import mean_absolute_error\n",
    "from sklearn.metrics import mean_squared_error\n",
    "from sklearn.metrics import r2_score\n",
    "from sklearn import model_selection\n",
    "from sklearn.linear_model import ElasticNet\n",
    "from sklearn.linear_model import Ridge\n",
    "from tqdm import tqdm\n",
    "from sklearn.neural_network import MLPRegressor\n",
    "\n",
    "\n",
    "ata = pd.read_csv('C:/Research/cowork/ISE_537_CA_OneBuilding_Part_1.csv')\n",
    "data.isnull().sum().sum()\n",
    "data = data.dropna()\n",
    "colnames = data.columns\n",
    "MS = MinMaxScaler()\n",
    "data = pd.DataFrame(data)\n",
    "pd.concat([data, pd.DataFrame(MS.fit_transform(data[colnames]), columns=colnames)], axis=1)\n",
    "print(data)"
   ]
  }
 ],
 "metadata": {
  "kernelspec": {
   "display_name": "FedLearning",
   "language": "python",
   "name": "python3"
  },
  "language_info": {
   "name": "python",
   "version": "3.10.8 | packaged by conda-forge | (main, Nov 24 2022, 14:07:00) [MSC v.1916 64 bit (AMD64)]"
  },
  "orig_nbformat": 4,
  "vscode": {
   "interpreter": {
    "hash": "3d9c63f866f60b974796075f5c09289b8fc4f57e9d727c901eeb59a008f9ea7c"
   }
  }
 },
 "nbformat": 4,
 "nbformat_minor": 2
}
