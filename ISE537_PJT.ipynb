{
 "cells": [
  {
   "cell_type": "code",
   "execution_count": 132,
   "metadata": {},
   "outputs": [
    {
     "name": "stdout",
     "output_type": "stream",
     "text": [
      "183296 45824\n"
     ]
    },
    {
     "name": "stderr",
     "output_type": "stream",
     "text": [
      "c:\\Users\\kiate\\anaconda3\\envs\\FedLearning\\lib\\site-packages\\sklearn\\utils\\validation.py:1111: DataConversionWarning: A column-vector y was passed when a 1d array was expected. Please change the shape of y to (n_samples, ), for example using ravel().\n",
      "  y = column_or_1d(y, warn=True)\n",
      "c:\\Users\\kiate\\anaconda3\\envs\\FedLearning\\lib\\site-packages\\sklearn\\linear_model\\_logistic.py:444: ConvergenceWarning: lbfgs failed to converge (status=1):\n",
      "STOP: TOTAL NO. of ITERATIONS REACHED LIMIT.\n",
      "\n",
      "Increase the number of iterations (max_iter) or scale the data as shown in:\n",
      "    https://scikit-learn.org/stable/modules/preprocessing.html\n",
      "Please also refer to the documentation for alternative solver options:\n",
      "    https://scikit-learn.org/stable/modules/linear_model.html#logistic-regression\n",
      "  n_iter_i = _check_optimize_result(\n"
     ]
    },
    {
     "name": "stdout",
     "output_type": "stream",
     "text": [
      "Logistic Regression 's CVRMSE is 3.6409993435862895\n",
      "Ridge 's CVRMSE is 2.0093776348985775\n",
      "LASSO 's CVRMSE is 2.072341500380222\n",
      "Elastic Net 's CVRMSE is 2.0508431037749246\n"
     ]
    }
   ],
   "source": [
    "import pandas as pd\n",
    "import matplotlib.pyplot as plt\n",
    "from sklearn.linear_model import LogisticRegression\n",
    "from sklearn import linear_model\n",
    "from sklearn.model_selection import train_test_split\n",
    "from sklearn.metrics import mean_absolute_error\n",
    "from sklearn.metrics import mean_squared_error\n",
    "from sklearn import model_selection\n",
    "from sklearn.linear_model import ElasticNet\n",
    "from sklearn.linear_model import Ridge\n",
    "import math \n",
    "import numpy as np\n",
    "\n",
    "class ISE(object):\n",
    "    \n",
    "    def __init__(self, data):\n",
    "        self.data = data\n",
    "    \n",
    "    def data_split(self):\n",
    "        x_data = self.data.iloc[:, 1:-1]\n",
    "        y_data = self.data.iloc[:, [-1]]\n",
    "        x_train, x_test, y_train, y_test = train_test_split(x_data, y_data, test_size=0.2, random_state=0)\n",
    "        return x_train, x_test, y_train, y_test\n",
    "\n",
    "    def train(self, x_train, y_train, x_test, y_test, model):\n",
    "        self.x_train = x_train\n",
    "        self.y_train = y_train\n",
    "        self.x_test = x_test\n",
    "        self.y_test = y_test\n",
    "        model.fit(self.x_train, self.y_train)\n",
    "        y_pred = model.predict(self.x_test)\n",
    "        return y_pred\n",
    "    \n",
    "    def evaluation(self, name, y_pred):\n",
    "        temp_y_test = self.y_test['Thermostat_Temperature']\n",
    "        ##MBE###\n",
    "        \n",
    "        ##MNBE###\n",
    "        \n",
    "        ###Coefficient of Variation of the Root Mean Square Error(CVRMSE)###\n",
    "        mse = mean_squared_error(self.y_test, y_pred)\n",
    "        rmse = math.sqrt(mse)\n",
    "        Avg_target = sum(temp_y_test)/len(temp_y_test)\n",
    "        CVRMSE = rmse/Avg_target * 100\n",
    "        print(name, \"'s CVRMSE is\", CVRMSE)\n",
    "        \n",
    "        return\n",
    "\n",
    "\n",
    "data = pd.read_csv('C:/Research/cowork/ISE537_data_preprocessed_final.csv')\n",
    "models = []\n",
    "models.append(('Logistic Regression', LogisticRegression()))\n",
    "models.append(('Ridge', Ridge()))\n",
    "models.append(('LASSO', linear_model.Lasso()))\n",
    "models.append(('Elastic Net', ElasticNet()))\n",
    "ISE = ISE(data)\n",
    "(x_train, x_test, y_train, y_test) = ISE.data_split()\n",
    "print(len(x_train), len(y_test))\n",
    "for name, model in models:\n",
    "    y_pred = ISE.train(x_train, y_train, x_test, y_test, model)\n",
    "    ISE.evaluation(name, y_pred)\n",
    "\n",
    "\n",
    "\n",
    "##ploting acutual & predict##\n",
    "\n",
    "\n"
   ]
  },
  {
   "cell_type": "markdown",
   "metadata": {},
   "source": []
  }
 ],
 "metadata": {
  "kernelspec": {
   "display_name": "FedLearning",
   "language": "python",
   "name": "python3"
  },
  "language_info": {
   "codemirror_mode": {
    "name": "ipython",
    "version": 3
   },
   "file_extension": ".py",
   "mimetype": "text/x-python",
   "name": "python",
   "nbconvert_exporter": "python",
   "pygments_lexer": "ipython3",
   "version": "3.10.8"
  },
  "orig_nbformat": 4,
  "vscode": {
   "interpreter": {
    "hash": "3d9c63f866f60b974796075f5c09289b8fc4f57e9d727c901eeb59a008f9ea7c"
   }
  }
 },
 "nbformat": 4,
 "nbformat_minor": 2
}
